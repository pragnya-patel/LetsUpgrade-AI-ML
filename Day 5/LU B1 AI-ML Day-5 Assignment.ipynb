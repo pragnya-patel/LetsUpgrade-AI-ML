{
 "cells": [
  {
   "cell_type": "markdown",
   "metadata": {},
   "source": [
    "# Question 1 :\n",
    "\n",
    "## Write a Python program to find the first 20 non-even prime natural numbers."
   ]
  },
  {
   "cell_type": "code",
   "execution_count": 36,
   "metadata": {},
   "outputs": [
    {
     "name": "stdout",
     "output_type": "stream",
     "text": [
      "First 20 non-even prime numbers natural numbers are:\n",
      "\n",
      "1   3   5   7   11   13   17   19   23   29   31   37   41   43   47   53   59   61   67   71   "
     ]
    }
   ],
   "source": [
    "print(\"First 20 non-even prime numbers natural numbers are:\\n\")\n",
    "count = 0\n",
    "for num in range(1,1000):\n",
    "        for j in range(2,num):\n",
    "            if num % j == 0:\n",
    "                break\n",
    "        else:\n",
    "            if num % 2 != 0 and count < 20:\n",
    "                print(num,end=\"   \")\n",
    "                count = count + 1"
   ]
  },
  {
   "cell_type": "markdown",
   "metadata": {},
   "source": [
    "# Question 2 :\n",
    "\n",
    "## Write a Python program to implement 15 functions of string."
   ]
  },
  {
   "cell_type": "code",
   "execution_count": 37,
   "metadata": {},
   "outputs": [
    {
     "name": "stdout",
     "output_type": "stream",
     "text": [
      "My name is pragnya patel and i am 7 years old.\n",
      "11\n",
      "1\n",
      "False\n",
      "my name is pragnya patel and i am 7 years old.\n",
      "MY NAME IS PRAGNYA PATEL AND I AM 7 YEARS OLD.\n",
      "False\n",
      "('My name ', 'is', ' Pragnya Patel and I am 7 years old.')\n",
      "My name is Xragnya Xatel and I am 7 years old.\n",
      "mY NAME IS pRAGNYA pATEL AND i AM 7 YEARS OLD.\n",
      "00000000000000My name is Pragnya Patel and I am 7 years old.\n",
      "My Name Is Pragnya Patel And I Am 7 Years Old.\n",
      "5\n",
      "True\n",
      "True\n"
     ]
    }
   ],
   "source": [
    "s1 = \"My name is Pragnya Patel and I am 7 years old.\"\n",
    "\n",
    "print(s1.capitalize())       #returns string with first letters capitalised followed by rest of string converted to lower case\n",
    "print(s1.index('P'))         #returns the index of first exact specified letter within index range of the string\n",
    "print(s1.count('P',15,20))   #counts the number of times the exact specified letter exist in string within index range 10 to 20\n",
    "print(s1.islower())          #returns True if the string is lower case otherwise False\n",
    "print(s1.lower())            #returns string converted to lower case\n",
    "print(s1.upper())            #returns string converted to upper case\n",
    "print(s1.isupper())          #returns True if the string is upper case otherwise False\n",
    "print(s1.partition('is'))    #returns string in the form of 3-tuple containing the string before the specified letters at first, followed specified letters in the middle and the string after specified letter\n",
    "print(s1.replace('P','X',2)) #replaces the first 2 first specified letter by second letter\n",
    "print(s1.swapcase())         #returns text with cases swapped from lower to upper and upper to lower\n",
    "print(s1.zfill(60))          #returns string converting it to length 60, if specified length > existing length, the difference in length is filled with leading 0 and if specified length is < existing length, the string is as it is printed \n",
    "print(s1.title())            #returns string with each words converted to Proper case\n",
    "print(s1.find('m'))          #returns the index of first exact specified letter within index range of the string\n",
    "print(s1.endswith('old.'))   #returns True if the string ends with exact specified string otherwise False\n",
    "print(s1.startswith('M'))    #returns True if the string starts with exact specified string otherwise False\n"
   ]
  },
  {
   "cell_type": "markdown",
   "metadata": {},
   "source": [
    "# Question 3:\n",
    "\n",
    "## Write a Python program to check if the given string is a Palindrome or Anagram or None of them. Display the message accordingly to the user."
   ]
  },
  {
   "cell_type": "code",
   "execution_count": 38,
   "metadata": {},
   "outputs": [
    {
     "name": "stdout",
     "output_type": "stream",
     "text": [
      "Enter the string : Malayalam madam madam Malayalam\n",
      "\n",
      " malayalam madam madam malayalam is a Palindrome\n",
      "\n",
      "Enter the string to check Anagram : mdaam MlayalaamMalayalam daamm \n",
      "\n",
      " malayalam madam madam malayalam and mdaam mlayalaammalayalam daamm  are Anagrams\n"
     ]
    }
   ],
   "source": [
    "s1 = str.lower((input(\"Enter the string : \")))\n",
    "\n",
    "if s1 == s1[::-1]:\n",
    "    print(\"\\n\",s1,\"is a Palindrome\")\n",
    "    s2 = str.lower((input(\"\\nEnter the string to check Anagram : \")))\n",
    "    if (len(s1) == len(s2)):\n",
    "        if sorted(s1)==sorted(s2):\n",
    "            print(\"\\n\",s1,\"and\",s2,\"are Anagrams\")\n",
    "    else:\n",
    "        print(\"\\n\",s1,\"and\",s2,\"are not Anagrams\")\n",
    "\n",
    "else:\n",
    "    print(\"\\n\",s1,\"is not a Palindrome\")\n",
    "    s3 = str.lower((input(\"\\nEnter the string to check Anagram : \")))\n",
    "    if (len(s1) == len(s3)):\n",
    "        if sorted(s1)==sorted(s3):\n",
    "            print(\"\\n\",s1,\"and\",s3,\"are Anagrams\")    \n",
    "    else:\n",
    "        print(\"\\n\",s1,s3,\"are not Anagrams\")\n",
    "        print(\"\\n\",s1,\"and\",s3,\"are not Palindrome or Anagram\")\n",
    "    \n"
   ]
  },
  {
   "cell_type": "markdown",
   "metadata": {},
   "source": [
    "# Question 4:\n",
    "\n",
    "## Write a Python's user defined function that removes all the additional characters from the string and converts it finally to lower case using built-in lower(). eg: If the string is \"Dr. Darshan Ingle @AI-ML Trainer\", then the output be \"drdarshaningleaimltrainer\"."
   ]
  },
  {
   "cell_type": "code",
   "execution_count": 39,
   "metadata": {},
   "outputs": [],
   "source": [
    "def strconverter(a):\n",
    "    for i in a:\n",
    "        if i.isalpha() == True or i.isalnum() == True or i.isdecimal() == True or i.isdigit() == True or i.isnumeric() == True :\n",
    "            print(i.lower(),end=\"\")\n",
    "        "
   ]
  },
  {
   "cell_type": "code",
   "execution_count": 40,
   "metadata": {},
   "outputs": [
    {
     "name": "stdout",
     "output_type": "stream",
     "text": [
      "drdarshaningleaimltrainer"
     ]
    }
   ],
   "source": [
    "strconverter(\"Dr. Darshan Ingle @AI-ML Trainer\")"
   ]
  }
 ],
 "metadata": {
  "kernelspec": {
   "display_name": "Python 3",
   "language": "python",
   "name": "python3"
  },
  "language_info": {
   "codemirror_mode": {
    "name": "ipython",
    "version": 3
   },
   "file_extension": ".py",
   "mimetype": "text/x-python",
   "name": "python",
   "nbconvert_exporter": "python",
   "pygments_lexer": "ipython3",
   "version": "3.7.6"
  }
 },
 "nbformat": 4,
 "nbformat_minor": 4
}
