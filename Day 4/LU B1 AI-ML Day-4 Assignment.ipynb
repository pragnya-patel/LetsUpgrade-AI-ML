{
 "cells": [
  {
   "cell_type": "markdown",
   "metadata": {},
   "source": [
    "# Question 1 :\n",
    "\n",
    "## Research on whether addition, subtraction, multiplication, division, floor division and modulo operations be performed on complex numbers. Based on your study, implement a Python program to demonstrate these operations.\n"
   ]
  },
  {
   "cell_type": "code",
   "execution_count": 43,
   "metadata": {},
   "outputs": [
    {
     "name": "stdout",
     "output_type": "stream",
     "text": [
      "Following operations can be performed on complex numbers: \n",
      "\n",
      "Addition = (48-21j)\n",
      "Subtraction =  (24-27j)\n",
      "Multiplication =  (1728-216j)\n",
      "Division  (3.2-5.6j) and (1+0.5j)\n",
      "\n",
      "Following operations cannot be performed on complex numbers: \n",
      "Floor division\n",
      "Modulo\n"
     ]
    }
   ],
   "source": [
    "num1 = 36-24j \n",
    "num2 = 6+3j\n",
    "num3 = 6\n",
    "\n",
    "print(\"Following operations can be performed on complex numbers: \\n\")\n",
    "# addition\n",
    "add = num1 + num2 + num3\n",
    "print(\"Addition =\",add)\n",
    "\n",
    "# subtraction\n",
    "subt = num1 - num2 - num3\n",
    "print(\"Subtraction = \",subt)\n",
    "\n",
    "# multiplication\n",
    "mult = num1 * num2 * num3\n",
    "print(\"Multiplication = \",mult)\n",
    "\n",
    "# division\n",
    "div = num1 / num2\n",
    "div1 = num2 / num3\n",
    "print(\"Division \",div,\"and\",div1)\n",
    "\n",
    "print(\"\\nFollowing operations cannot be performed on complex numbers: \\nFloor division\\nModulo\")\n",
    "\n",
    "# floor division\n",
    "# fdiv = num2 // num1\n",
    "# print(\"Floor division of complex number is \",fdiv)\n",
    "\n",
    "# modulo\n",
    "# modu = num1 % 3\n",
    "# print(\"Modulo of complex number is \",modu)\n",
    "\n",
    "# Addition, subtraction, multiplication and division operations can be performed on complex numbers\n",
    "# Floor division and Modulo operations cannot be performed on complex numbers"
   ]
  },
  {
   "cell_type": "markdown",
   "metadata": {},
   "source": [
    "# Question 2 :\n",
    "\n",
    "## Research on range() functions and its parameters. Create a markdown cell and write in your own words (no copy-paste from google please) what you understand about it. Implement a small program of your choice on the same."
   ]
  },
  {
   "cell_type": "markdown",
   "metadata": {},
   "source": [
    "#### The range() function returns a sequence of numbers, starting from 0 by default, and increments by 1 (by default), and stops before a specified number.\n",
    "\n",
    "#### Syntax : range(start, stop, step)\n"
   ]
  },
  {
   "cell_type": "code",
   "execution_count": 44,
   "metadata": {},
   "outputs": [
    {
     "name": "stdout",
     "output_type": "stream",
     "text": [
      "[1, 4, 7, 10, 13, 16, 19, 22, 25, 28, 31, 34, 37, 40, 43, 46, 49, 52, 55]\n",
      "1 is odd number\n",
      "4 is even number\n",
      "7 is odd number\n",
      "10 is even number\n",
      "13 is odd number\n",
      "16 is even number\n",
      "19 is odd number\n",
      "22 is even number\n",
      "25 is odd number\n",
      "28 is even number\n",
      "31 is odd number\n",
      "34 is even number\n",
      "37 is odd number\n",
      "40 is even number\n",
      "43 is odd number\n",
      "46 is even number\n",
      "49 is odd number\n",
      "52 is even number\n",
      "55 is odd number\n"
     ]
    }
   ],
   "source": [
    "x = list(range(1,57,3)) # here,it started from 1. incremented by 2. till number 11 (12 is not the part of list, list stops at 11)\n",
    "print(x)\n",
    "for i in x:\n",
    "    if i % 2 == 0:\n",
    "        print(i,\"is even number\")\n",
    "    else:\n",
    "        print(i,\"is odd number\")"
   ]
  },
  {
   "cell_type": "markdown",
   "metadata": {},
   "source": [
    "# Question 3:\n",
    "\n",
    "## Consider two numbers. Perform their subtraction and if the result of subtraction is greater than 25, print their multiplication result else print their division result.\n"
   ]
  },
  {
   "cell_type": "code",
   "execution_count": 45,
   "metadata": {},
   "outputs": [
    {
     "name": "stdout",
     "output_type": "stream",
     "text": [
      "Division of 125 and 100 is 1.25\n"
     ]
    }
   ],
   "source": [
    "num1 = 125\n",
    "num2 = 100\n",
    "\n",
    "if num1 - num2 > 25:\n",
    "    print(\"Multiplication of\",num1,\"and\",num2,\"is\",num1 * num2)\n",
    "else:\n",
    "    print(\"Division of\",num1,\"and\",num2,\"is\",num1/num2)"
   ]
  },
  {
   "cell_type": "code",
   "execution_count": 46,
   "metadata": {},
   "outputs": [
    {
     "name": "stdout",
     "output_type": "stream",
     "text": [
      "Multiplication of 132 and 12 is 1584\n"
     ]
    }
   ],
   "source": [
    "num1 = 132\n",
    "num2 = 12\n",
    "\n",
    "if num1 - num2 > 25:\n",
    "    print(\"Multiplication of\",num1,\"and\",num2,\"is\",num1 * num2)\n",
    "else:\n",
    "    print(\"Division of\",num1,\"and\",num2,\"is\",num1/num2)"
   ]
  },
  {
   "cell_type": "markdown",
   "metadata": {},
   "source": [
    "# Question 4:\n",
    "\n",
    "## Consider a list of 10 elements of integer values. If the number in the list is divisible by 2, print theresult as \"square of that number minus 2\".\n"
   ]
  },
  {
   "cell_type": "code",
   "execution_count": 47,
   "metadata": {},
   "outputs": [
    {
     "name": "stdout",
     "output_type": "stream",
     "text": [
      "Square of 100 minus 2 is 9998\n",
      "Square of 12 minus 2 is 142\n",
      "Square of 2 minus 2 is 2\n",
      "Square of 44 minus 2 is 1934\n"
     ]
    }
   ],
   "source": [
    "list1 = [100,11,12,7,2,51,85,44,5,65]\n",
    "\n",
    "for i in list1:\n",
    "    if i % 2 == 0:\n",
    "        print(\"Square of\",i,\"minus 2 is\",i**2-2)"
   ]
  },
  {
   "cell_type": "markdown",
   "metadata": {},
   "source": [
    "# Question 5:\n",
    "\n",
    "## Consider a list of 10 elements. Print all the elements in the list which are greater than 7 when that number is divided 2."
   ]
  },
  {
   "cell_type": "code",
   "execution_count": 48,
   "metadata": {},
   "outputs": [
    {
     "name": "stdout",
     "output_type": "stream",
     "text": [
      "100.1\n",
      "51.25\n",
      "85\n",
      "44.48\n",
      "65\n"
     ]
    }
   ],
   "source": [
    "list2 = [100.1,11,12,7,2,51.25,85,44.48,5.99,65]\n",
    "\n",
    "for i in list2:\n",
    "    if i / 2 > 7:\n",
    "        print(i)"
   ]
  },
  {
   "cell_type": "code",
   "execution_count": null,
   "metadata": {},
   "outputs": [],
   "source": []
  }
 ],
 "metadata": {
  "kernelspec": {
   "display_name": "Python 3",
   "language": "python",
   "name": "python3"
  },
  "language_info": {
   "codemirror_mode": {
    "name": "ipython",
    "version": 3
   },
   "file_extension": ".py",
   "mimetype": "text/x-python",
   "name": "python",
   "nbconvert_exporter": "python",
   "pygments_lexer": "ipython3",
   "version": "3.7.6"
  }
 },
 "nbformat": 4,
 "nbformat_minor": 4
}
