{
 "cells": [
  {
   "cell_type": "markdown",
   "metadata": {},
   "source": [
    "# Question 1 :\n",
    "\n",
    "## Write a program to subtract two complex numbers in Python."
   ]
  },
  {
   "cell_type": "code",
   "execution_count": 46,
   "metadata": {},
   "outputs": [
    {
     "name": "stdout",
     "output_type": "stream",
     "text": [
      "Subtraction of (3+10j) and (1+5j) is (2+5j)\n"
     ]
    }
   ],
   "source": [
    "num1 = 1+5j\n",
    "num2= 3+10j\n",
    "subt = num2 - num1\n",
    "print(\"Subtraction of\",num2,\"and\",num1,\"is\",subt)"
   ]
  },
  {
   "cell_type": "markdown",
   "metadata": {},
   "source": [
    "# Question 2 :\n",
    "\n",
    "## Write a program to find the fourth root of a number."
   ]
  },
  {
   "cell_type": "code",
   "execution_count": 47,
   "metadata": {},
   "outputs": [
    {
     "name": "stdout",
     "output_type": "stream",
     "text": [
      "Fourth root of 16 is 2.0\n"
     ]
    }
   ],
   "source": [
    "num = 16\n",
    "fourthrt = num **(1/4)\n",
    "print(\"Fourth root of\",num,\"is\",fourthrt)"
   ]
  },
  {
   "cell_type": "markdown",
   "metadata": {},
   "source": [
    "# Question 3:\n",
    "\n",
    "## Write a program to swap two numbers in Python with the help of a temporary variable."
   ]
  },
  {
   "cell_type": "code",
   "execution_count": 48,
   "metadata": {},
   "outputs": [
    {
     "name": "stdout",
     "output_type": "stream",
     "text": [
      "New first number is num1 = 6\n",
      "New second number is num2 = 4\n"
     ]
    }
   ],
   "source": [
    "num1 = 4\n",
    "num2 = 6\n",
    "\n",
    "temp = num1      # save first num in temp variable\n",
    "num1 = num2      # update first number as second number\n",
    "num2 = temp      # update second number as temp which has old first number\n",
    "\n",
    "print(\"New first number is num1 =\",num1)\n",
    "print(\"New second number is num2 =\",num2)"
   ]
  },
  {
   "cell_type": "markdown",
   "metadata": {},
   "source": [
    "# Question 4:\n",
    "\n",
    "## Write a program to swap two numbers in Python without using a temporary variable."
   ]
  },
  {
   "cell_type": "code",
   "execution_count": 49,
   "metadata": {},
   "outputs": [
    {
     "name": "stdout",
     "output_type": "stream",
     "text": [
      "New first number is num1 = 6\n",
      "New second number is num2 = 4\n"
     ]
    }
   ],
   "source": [
    "num1 = 4\n",
    "num2 = 6\n",
    "\n",
    "num1 = num1 + num2       # update first number as addition of both numbers\n",
    "num2 = num1 - num2       # update second number as difference of new first number (i.e addition of both num) and second number\n",
    "num1 = num1 - num2       # update first number as difference of new first number (i.e. addition of both num)  and new second number\n",
    "\n",
    "print(\"New first number is num1 =\",num1)\n",
    "print(\"New second number is num2 =\",num2)"
   ]
  },
  {
   "cell_type": "markdown",
   "metadata": {},
   "source": [
    "# Question 5:\n",
    "\n",
    "## Write a program to convert fahrenheit to kelvin and celsius both."
   ]
  },
  {
   "cell_type": "code",
   "execution_count": 50,
   "metadata": {},
   "outputs": [
    {
     "name": "stdout",
     "output_type": "stream",
     "text": [
      "Fahrenheit = 104 °F\n",
      "104 °F = 313.15 K\n",
      "104 °F = 40.0 °C\n"
     ]
    }
   ],
   "source": [
    "'''The basic formula for converting Fahrenheit into Kelvin is ((32°F − 32) × 5/9)°C + 273.15 = K.\n",
    "The basic formula for converting Fahrenheit into Celsius is (°F − 32) × 5/9 = °C.'''\n",
    "\n",
    "fahrenheit = 104\n",
    "celsius = (fahrenheit - 32) * 5/9\n",
    "kelvin = celsius + 273.15                 # or kelvin = ((fahrenheit - 32) * 5/9) + 273.15\n",
    "\n",
    "\n",
    "print(\"Fahrenheit =\",fahrenheit,\"°F\")\n",
    "print(fahrenheit,\"°F =\",kelvin,\"K\")\n",
    "print(fahrenheit,\"°F =\",celsius,\"°C\")"
   ]
  },
  {
   "cell_type": "markdown",
   "metadata": {},
   "source": [
    "# Question 6:\n",
    "\n",
    "## Write a program to demonstrate all the available data types in Python. Hint: Use type() function."
   ]
  },
  {
   "cell_type": "code",
   "execution_count": 51,
   "metadata": {},
   "outputs": [
    {
     "name": "stdout",
     "output_type": "stream",
     "text": [
      "1st data type is <class 'str'>\n",
      "2nd data type is <class 'int'>\n",
      "3rd data type is <class 'float'>\n",
      "4th data type is <class 'complex'>\n"
     ]
    }
   ],
   "source": [
    "str1 = \"This is a string data type\"\n",
    "print(\"1st data type is\",type(str1))\n",
    "\n",
    "int1 = 445616\n",
    "print(\"2nd data type is\",type(int1))\n",
    "\n",
    "float1 = 1057.84475\n",
    "print(\"3rd data type is\",type(float1))\n",
    "\n",
    "complex1 = 1022+263j\n",
    "print(\"4th data type is\",type(complex1))"
   ]
  },
  {
   "cell_type": "markdown",
   "metadata": {},
   "source": [
    "# Question 7:\n",
    "## Create a Markdown cell in jupyter and list the steps discussed in the session by Dr. Darshan Ingle sir to create Github profile and upload Githubs Assignment link."
   ]
  },
  {
   "cell_type": "markdown",
   "metadata": {},
   "source": [
    "### Steps to create Github\n",
    "\n",
    "1. Go to github.com\n",
    "2. Sign up to github.com using email id\n",
    "3. Your github profile will be created\n",
    "\n",
    "### Steps to upload Githubs Assignment link\n",
    "\n",
    "1. Sign in to github\n",
    "2. Click on New button near Repositories\n",
    "3. Name the repository as 'LetsUpgrade AI-ML'\n",
    "4. Enter the description as 'Assignments'\n",
    "5. Click on create repository\n",
    "6. Click on link 'uploading an existing file'\n",
    "7. Drag and Drop your folder\n",
    "8. Click on 'commit changes'\n",
    "9. Go to Repository 'LetsUpgrade AI-ML'\n",
    "10. Go to Day 3\n",
    "11. Copy the link and upload it in the assignment for the day\n"
   ]
  }
 ],
 "metadata": {
  "kernelspec": {
   "display_name": "Python 3",
   "language": "python",
   "name": "python3"
  },
  "language_info": {
   "codemirror_mode": {
    "name": "ipython",
    "version": 3
   },
   "file_extension": ".py",
   "mimetype": "text/x-python",
   "name": "python",
   "nbconvert_exporter": "python",
   "pygments_lexer": "ipython3",
   "version": "3.7.6"
  }
 },
 "nbformat": 4,
 "nbformat_minor": 4
}
