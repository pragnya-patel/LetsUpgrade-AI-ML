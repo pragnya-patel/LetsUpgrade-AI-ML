{
 "cells": [
  {
   "cell_type": "markdown",
   "metadata": {},
   "source": [
    "# Question 1:\n",
    "\n",
    "##    Assuming that we have some email addresses in the \"username@companyname.com\" format, please write program to print the company name of a given email address. Both user names and company names are composed of letters only.\n",
    "    \n",
    "### Input Format:\n",
    "- The first line of the input contains an email address.\n",
    "\n",
    "### Output Format:\n",
    "- Print the company name in single line.\n",
    "\n",
    "### Example:\n",
    "\n",
    "#### Input:\n",
    "- john@google.com\n",
    "\n",
    "#### Output:\n",
    "- google"
   ]
  },
  {
   "cell_type": "code",
   "execution_count": 36,
   "metadata": {},
   "outputs": [
    {
     "name": "stdout",
     "output_type": "stream",
     "text": [
      "Enter your email address: pragnya.patel279@karekar03.com\n",
      "Company Name is : karekar03"
     ]
    }
   ],
   "source": [
    "import re\n",
    "email = input(\"Enter your email address: \")\n",
    "if (re.search('^[a-z0-9]+[\\._]?[a-z0-9]+[@]\\w+[.]\\w{2,3}$', email)):\n",
    "    print(\"Company Name is : \",end=\"\")\n",
    "    for i in range(email.index(\"@\")+1,email.find(\".\",email.index(\"@\"))):\n",
    "        print(email[i],end=\"\")\n",
    "else:\n",
    "    print(\"\\nInvalid email format !!\\nExample email format - username@companyname.com\")\n",
    "\n"
   ]
  },
  {
   "cell_type": "markdown",
   "metadata": {},
   "source": [
    "# Question 2:\n",
    "\n",
    "## Write a program that accepts a comma-separated sequence of words as input and prints the words in a comma separated sequence after sorting them alphabetically.\n",
    "\n",
    "### Input Format:\n",
    "- The first line of input contains words separated by the comma.\n",
    "\n",
    "### Output Format:\n",
    "- Print the sorted words separated by the comma.\n",
    "\n",
    "### Example:\n",
    "\n",
    "#### Input:\n",
    "- without,hello,bag,world\n",
    "\n",
    "#### Output:\n",
    "- bag,hello,without,world"
   ]
  },
  {
   "cell_type": "code",
   "execution_count": 8,
   "metadata": {},
   "outputs": [
    {
     "name": "stdout",
     "output_type": "stream",
     "text": [
      "Enter the words separated by comma : pragnya,mittal,kalpesh,mithi,vasaram\n",
      "Words sorted alphabetically :  kalpesh,mithi,mittal,pragnya,vasaram\n"
     ]
    }
   ],
   "source": [
    "print(\"Enter the words separated by comma : \", end=\"\")\n",
    "words = list(map(lambda X : X,input().split(\",\")))\n",
    "words.sort()\n",
    "print(\"Words sorted alphabetically : \",\",\".join(words))"
   ]
  },
  {
   "cell_type": "markdown",
   "metadata": {},
   "source": [
    "# Question 3:\n",
    "\n",
    "### Create your own Jupyter Notebook for Sets.\n",
    "### Reference link: https://www.w3schools.com/python/python_sets.asp"
   ]
  },
  {
   "cell_type": "markdown",
   "metadata": {},
   "source": [
    "### Sets\n",
    "\n",
    "- A set is a collection which is unordered and unindexed. In Python sets are written with curly brackets.\n",
    "\n",
    "##### Note: Sets are unordered, so you cannot be sure in which order the items will appear.\n",
    "\n",
    "- eg:"
   ]
  },
  {
   "cell_type": "code",
   "execution_count": 14,
   "metadata": {},
   "outputs": [
    {
     "name": "stdout",
     "output_type": "stream",
     "text": [
      "{'strings', 231.2654, 'numbers', 'words', 11222}\n"
     ]
    }
   ],
   "source": [
    "set1 = {\"words\", \"numbers\", \"strings\",11222,231.2654}\n",
    "print(set1)"
   ]
  },
  {
   "cell_type": "markdown",
   "metadata": {},
   "source": [
    "\n",
    "##### Access Items\n",
    "- You cannot access items in a set by referring to an index, since sets are unordered the items has no index.\n",
    "\n",
    "- But you can loop through the set items using a for loop, or ask if a specified value is present in a set, by using the in keyword.\n",
    "\n",
    "- eg."
   ]
  },
  {
   "cell_type": "code",
   "execution_count": 15,
   "metadata": {},
   "outputs": [
    {
     "name": "stdout",
     "output_type": "stream",
     "text": [
      "strings\n",
      "231.2654\n",
      "numbers\n",
      "words\n",
      "11222\n"
     ]
    }
   ],
   "source": [
    "set1 = {\"words\", \"numbers\", \"strings\",11222,231.2654}\n",
    "\n",
    "for word in set1:\n",
    "  print(word)"
   ]
  },
  {
   "cell_type": "markdown",
   "metadata": {},
   "source": [
    "#### Change Items\n",
    "\n",
    "- Once a set is created, you cannot change its items, but you can add new items.\n",
    "\n",
    "#### Add Items\n",
    "\n",
    "- To add one item to a set use the add() method.\n",
    "\n",
    "- To add more than one item to a set use the update() method.\n",
    "\n",
    "- eg."
   ]
  },
  {
   "cell_type": "code",
   "execution_count": 16,
   "metadata": {},
   "outputs": [
    {
     "name": "stdout",
     "output_type": "stream",
     "text": [
      "{'strings', 231.2654, 'add', 'numbers', 'words', 11222}\n",
      "{'strings', 'three', 231.2654, 'numbers', 'words', 11222, 'two', 'one'}\n"
     ]
    }
   ],
   "source": [
    "#using add()\n",
    "\n",
    "set1 = {\"words\", \"numbers\", \"strings\",11222,231.2654}\n",
    "\n",
    "set1.add(\"add\")\n",
    "\n",
    "print(set1)\n",
    "\n",
    "#using update()\n",
    "\n",
    "set1 = {\"words\", \"numbers\", \"strings\",11222,231.2654}\n",
    "\n",
    "set1.update([\"one\", \"two\", \"three\"])\n",
    "\n",
    "print(set1)"
   ]
  },
  {
   "cell_type": "markdown",
   "metadata": {},
   "source": [
    "# Question 4:\n",
    "\n",
    "## Given a list of n-1 numbers ranging from 1 to n, your task is to find the missing number. There are no duplicates.\n",
    "\n",
    "### Input Format:\n",
    "- The first line contains n-1 numbers with each number separated by a space.\n",
    "\n",
    "### Output Format:\n",
    "- Print the missing number\n",
    "\n",
    "### Example:\n",
    "\n",
    "### Input:1 2 4 6 3 7 8\n",
    "### Output:5\n",
    "#### Explanation:\n",
    "- In the above list of numbers 5 is missing and hence 5 is the input"
   ]
  },
  {
   "cell_type": "code",
   "execution_count": 30,
   "metadata": {},
   "outputs": [
    {
     "name": "stdout",
     "output_type": "stream",
     "text": [
      "Enter the range of num: 5\n",
      "\n",
      "Enter 4 numbers only !!!!\n",
      "Duplicate numbers are not allowed !!!!\n",
      "\n",
      "Enter numbers for list :1 2 3 5 4\n",
      "\n",
      "Enter numbers for list :1 2 3 55\n",
      "\n",
      "Number should be strictly less than 5  !!!!\n",
      "\n",
      "Enter numbers for list :1 2 3 2\n",
      "\n",
      "Enter numbers for list :2 3 5 1\n",
      "Missing number is:  4\n"
     ]
    }
   ],
   "source": [
    "ran = int(input(\"Enter the range of num: \"))\n",
    "print(\"\\nEnter\",ran-1,\"numbers only !!!!\")\n",
    "print(\"Duplicate numbers are not allowed !!!!\")\n",
    "while True:\n",
    "    num = list(map(int,input(\"\\nEnter numbers for list :\").split()))\n",
    "    numd = list(dict.fromkeys(num))\n",
    "    if len(numd) == ran-1:\n",
    "        pass\n",
    "        for i in numd:\n",
    "            if i > ran:\n",
    "                print(\"\\nNumber should be strictly less than\", ran,\" !!!!\")\n",
    "                break\n",
    "        else:\n",
    "            break\n",
    "for j in range(1,ran+1):\n",
    "    if j not in numd:\n",
    "        print(\"Missing number is: \",j)\n",
    "       \n",
    "            "
   ]
  },
  {
   "cell_type": "markdown",
   "metadata": {},
   "source": [
    "# Question 5:\n",
    "\n",
    "## With a given list L, write a program to print this list L after removing all duplicate values with original order reserved.\n",
    "\n",
    "### Example:\n",
    "\n",
    "### If the input list is\n",
    "- 12 24 35 24 88 120 155 88 120 155\n",
    "\n",
    "### Then the output should be\n",
    "- 12 24 35 88 120 155\n",
    "\n",
    "### Explanation:\n",
    "- Third, seventh and ninth element of the list L has been removed because it was already present.\n",
    "\n",
    "### Input Format:\n",
    "- In one line take the elements of the list L with each element separated by a space.\n",
    "\n",
    "### Output Format:\n",
    "- Print the elements of the modified list in one line with each element separated by a space.\n",
    "\n",
    "### Example:\n",
    "- Input: 12 24 35 24\n",
    "\n",
    "### Output:\n",
    "- 12 24 35"
   ]
  },
  {
   "cell_type": "code",
   "execution_count": 31,
   "metadata": {},
   "outputs": [
    {
     "name": "stdout",
     "output_type": "stream",
     "text": [
      "Enter the numbers for the list: 12 24 35 24 88 120 155 88 120 155\n",
      "New List is : 12 24 35 88 120 155 "
     ]
    }
   ],
   "source": [
    "lst = map(int,input(\"Enter the numbers for the list: \").split())\n",
    "newlist = list(dict.fromkeys(lst))\n",
    "print(\"New List is : \",end='')\n",
    "for i in newlist:\n",
    "    print(i,end=' ')\n"
   ]
  }
 ],
 "metadata": {
  "kernelspec": {
   "display_name": "Python 3",
   "language": "python",
   "name": "python3"
  },
  "language_info": {
   "codemirror_mode": {
    "name": "ipython",
    "version": 3
   },
   "file_extension": ".py",
   "mimetype": "text/x-python",
   "name": "python",
   "nbconvert_exporter": "python",
   "pygments_lexer": "ipython3",
   "version": "3.7.6"
  }
 },
 "nbformat": 4,
 "nbformat_minor": 4
}
