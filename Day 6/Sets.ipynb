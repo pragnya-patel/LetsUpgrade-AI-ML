{
 "cells": [
  {
   "cell_type": "markdown",
   "metadata": {},
   "source": [
    "# Question 3:\n",
    "\n",
    "### Create your own Jupyter Notebook for Sets.\n",
    "### Reference link: https://www.w3schools.com/python/python_sets.asp"
   ]
  },
  {
   "cell_type": "markdown",
   "metadata": {},
   "source": [
    "### Sets\n",
    "\n",
    "- A set is a collection which is unordered and unindexed. In Python sets are written with curly brackets.\n",
    "\n",
    "##### Note: Sets are unordered, so you cannot be sure in which order the items will appear.\n",
    "\n",
    "- eg:"
   ]
  },
  {
   "cell_type": "code",
   "execution_count": 2,
   "metadata": {},
   "outputs": [
    {
     "name": "stdout",
     "output_type": "stream",
     "text": [
      "{'numbers', 231.2654, 'words', 11222, 'strings'}\n"
     ]
    }
   ],
   "source": [
    "set1 = {\"words\", \"numbers\", \"strings\",11222,231.2654}\n",
    "print(set1)"
   ]
  },
  {
   "cell_type": "markdown",
   "metadata": {},
   "source": [
    "\n",
    "##### Access Items\n",
    "- You cannot access items in a set by referring to an index, since sets are unordered the items has no index.\n",
    "\n",
    "- But you can loop through the set items using a for loop, or ask if a specified value is present in a set, by using the in keyword.\n",
    "\n",
    "- eg."
   ]
  },
  {
   "cell_type": "code",
   "execution_count": 3,
   "metadata": {},
   "outputs": [
    {
     "name": "stdout",
     "output_type": "stream",
     "text": [
      "numbers\n",
      "231.2654\n",
      "words\n",
      "11222\n",
      "strings\n"
     ]
    }
   ],
   "source": [
    "set1 = {\"words\", \"numbers\", \"strings\",11222,231.2654}\n",
    "\n",
    "for word in set1:\n",
    "  print(word)"
   ]
  },
  {
   "cell_type": "markdown",
   "metadata": {},
   "source": [
    "#### Change Items\n",
    "\n",
    "- Once a set is created, you cannot change its items, but you can add new items.\n",
    "\n",
    "#### Add Items\n",
    "\n",
    "- To add one item to a set use the add() method.\n",
    "\n",
    "- To add more than one item to a set use the update() method.\n",
    "\n",
    "- eg."
   ]
  },
  {
   "cell_type": "code",
   "execution_count": 4,
   "metadata": {},
   "outputs": [
    {
     "name": "stdout",
     "output_type": "stream",
     "text": [
      "{'numbers', 231.2654, 'add', 'words', 11222, 'strings'}\n",
      "{'numbers', 231.2654, 'one', 'two', 'words', 11222, 'three', 'strings'}\n"
     ]
    }
   ],
   "source": [
    "#using add()\n",
    "\n",
    "set1 = {\"words\", \"numbers\", \"strings\",11222,231.2654}\n",
    "\n",
    "set1.add(\"add\")\n",
    "\n",
    "print(set1)\n",
    "\n",
    "#using update()\n",
    "\n",
    "set1 = {\"words\", \"numbers\", \"strings\",11222,231.2654}\n",
    "\n",
    "set1.update([\"one\", \"two\", \"three\"])\n",
    "\n",
    "print(set1)"
   ]
  }
 ],
 "metadata": {
  "kernelspec": {
   "display_name": "Python 3",
   "language": "python",
   "name": "python3"
  },
  "language_info": {
   "codemirror_mode": {
    "name": "ipython",
    "version": 3
   },
   "file_extension": ".py",
   "mimetype": "text/x-python",
   "name": "python",
   "nbconvert_exporter": "python",
   "pygments_lexer": "ipython3",
   "version": "3.7.6"
  }
 },
 "nbformat": 4,
 "nbformat_minor": 4
}
